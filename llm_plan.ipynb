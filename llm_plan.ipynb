{
 "cells": [
  {
   "cell_type": "markdown",
   "metadata": {},
   "source": [
    "### Start"
   ]
  },
  {
   "cell_type": "code",
   "execution_count": 1,
   "metadata": {},
   "outputs": [],
   "source": [
    "import torch\n",
    "from langchain.prompts import ChatPromptTemplate, SystemMessagePromptTemplate, HumanMessagePromptTemplate\n",
    "from langchain_community.llms import Ollama\n",
    "from langchain.agents import AgentExecutor, Tool\n",
    "from langchain.agents import initialize_agent, AgentType\n",
    "from concurrent.futures import ThreadPoolExecutor\n",
    "import json\n",
    "\n",
    "# Enable MPS (M1 GPU) if available\n",
    "device = torch.device(\"mps\" if torch.backends.mps.is_available() else \"cpu\")"
   ]
  },
  {
   "cell_type": "code",
   "execution_count": 2,
   "metadata": {},
   "outputs": [
    {
     "data": {
      "text/plain": [
       "device(type='mps')"
      ]
     },
     "execution_count": 2,
     "metadata": {},
     "output_type": "execute_result"
    }
   ],
   "source": [
    "device"
   ]
  },
  {
   "cell_type": "code",
   "execution_count": null,
   "metadata": {},
   "outputs": [],
   "source": [
    "# Initialize Ollama with the llama3.2 model\n",
    "llm = Ollama(model=\"llama3.2\")"
   ]
  },
  {
   "cell_type": "code",
   "execution_count": 4,
   "metadata": {},
   "outputs": [],
   "source": [
    "# Agent 1: Schedule Generator\n",
    "def schedule_generator(date, temp_high, temp_low, weather, air_quality, attractions):\n",
    "    prompt = f\"\"\"\n",
    "    You are an AI assistant specializing in creating schedules for travelers in Busan. Based on the following weather, temperature, air quality, and attractions, generate a day schedule that maximizes enjoyment while considering environmental factors.\n",
    "\n",
    "    Date: {date}\n",
    "    Temperature High: {temp_high}\n",
    "    Temperature Low: {temp_low}\n",
    "    Weather: {weather}\n",
    "    Air Quality: {air_quality}\n",
    "    Attractions: {attractions}\n",
    "\n",
    "    Please create a detailed schedule including recommended visit times, breaks, and any special considerations due to the weather and air quality.\n",
    "    \"\"\"\n",
    "    return llm(prompt)\n",
    "\n",
    "# Agent 2: Recommendation Generator\n",
    "def recommendation_generator(date, temp_high, temp_low, weather, air_quality, attractions):\n",
    "    prompt = f\"\"\"\n",
    "    You are an AI assistant providing recommendations based on the following environmental factors and attractions in Busan. Considering the weather, air quality, and attractions available, provide recommendations for the day, including tips for dealing with adverse conditions and optimizing the experience.\n",
    "\n",
    "    Date: {date}\n",
    "    Temperature High: {temp_high}\n",
    "    Temperature Low: {temp_low}\n",
    "    Weather: {weather}\n",
    "    Air Quality: {air_quality}\n",
    "    Attractions: {attractions}\n",
    "\n",
    "    Provide a detailed recommendation that includes which attractions to visit, precautions, and how to manage the day in light of the environmental conditions.\n",
    "    \"\"\"\n",
    "    return llm(prompt)\n"
   ]
  },
  {
   "cell_type": "code",
   "execution_count": null,
   "metadata": {},
   "outputs": [
    {
     "name": "stderr",
     "output_type": "stream",
     "text": [
      "/var/folders/b5/q_9jl9rj403b681rxbdcpgzh0000gn/T/ipykernel_90641/97325001.py:16: LangChainDeprecationWarning: The function `initialize_agent` was deprecated in LangChain 0.1.0 and will be removed in 1.0. Use :meth:`~Use new agent constructor methods like create_react_agent, create_json_agent, create_structured_chat_agent, etc.` instead.\n",
      "  agent = initialize_agent(\n"
     ]
    }
   ],
   "source": [
    "# Define tools\n",
    "tools = [\n",
    "    Tool(\n",
    "        name=\"Schedule Generator\",\n",
    "        func=schedule_generator,\n",
    "        description=\"Use this tool to generate a detailed schedule for the day.\"\n",
    "    ),\n",
    "    Tool(\n",
    "        name=\"Recommendation Generator\",\n",
    "        func=recommendation_generator,\n",
    "        description=\"Use this tool to provide detailed recommendations based on weather and conditions.\"\n",
    "    )\n",
    "]\n",
    "\n",
    "# Initialize the agent\n",
    "agent = initialize_agent(\n",
    "    tools, \n",
    "    llm, \n",
    "    agent=AgentType.OPENAI_FUNCTIONS, \n",
    "    verbose=True\n",
    ")\n",
    "\n",
    "# Data  example for the itinerary: We can use API to get the data\n",
    "data = [\n",
    "    {\n",
    "        \"date\": \"2024-10-05\",\n",
    "        \"temp_high\": 30,\n",
    "        \"temp_low\": 14,\n",
    "        \"weather\": \"Windy\",\n",
    "        \"air_quality\": \"Hazardous\",\n",
    "        \"attractions\": [\n",
    "            {\"name\": \"Haeundae Beach\", \"recommended_time\": 2.98},\n",
    "            {\"name\": \"Gwangalli Beach\", \"recommended_time\": 3.18},\n",
    "            {\"name\": \"Taejongdae\", \"recommended_time\": 3.63},\n",
    "            {\"name\": \"Beomeosa Temple\", \"recommended_time\": 2.4},\n",
    "            {\"name\": \"Gamcheon Culture Village\", \"recommended_time\": 1.0}\n",
    "        ]\n",
    "    }\n",
    "]"
   ]
  },
  {
   "cell_type": "code",
   "execution_count": null,
   "metadata": {},
   "outputs": [],
   "source": [
    "# Function to process a single prompt\n",
    "def process_prompt(agent, date, temp_high, temp_low, weather, air_quality, attractions):\n",
    "    formatted_attractions = \", \".join([f\"{attr['name']} ({attr['recommended_time']} hrs)\" for attr in attractions])\n",
    "    try:\n",
    "        # Create input string\n",
    "        input_str = f\"\"\"Generate a schedule and recommendations for a day in Busan on {date} with high temperature {temp_high}°C, low temperature {temp_low}°C, {weather} weather, {air_quality} air quality, and the following attractions: {formatted_attractions}. \n",
    "        First, use the Schedule Generator to create a detailed itinerary. Then, use the Recommendation Generator to provide tips and precautions based on the conditions.\"\"\"\n",
    "        \n",
    "        # Run the agent\n",
    "        result = agent.run(input_str)\n",
    "        return result\n",
    "    except Exception as e:\n",
    "        return f\"Error processing prompt: {e}\""
   ]
  },
  {
   "cell_type": "code",
   "execution_count": 7,
   "metadata": {},
   "outputs": [
    {
     "name": "stderr",
     "output_type": "stream",
     "text": [
      "/var/folders/b5/q_9jl9rj403b681rxbdcpgzh0000gn/T/ipykernel_90641/2586510902.py:10: LangChainDeprecationWarning: The method `Chain.run` was deprecated in langchain 0.1.0 and will be removed in 1.0. Use :meth:`~invoke` instead.\n",
      "  result = agent.run(input_str)\n"
     ]
    },
    {
     "name": "stdout",
     "output_type": "stream",
     "text": [
      "\n",
      "\n",
      "\u001b[1m> Entering new AgentExecutor chain...\u001b[0m\n",
      "\u001b[32;1m\u001b[1;3mBased on your input, I've created a schedule for a day in Busan on 2024-10-05.\n",
      "\n",
      "**Detailed Itinerary:**\n",
      "\n",
      "1. 6:00 AM - Wake up and have breakfast at a nearby café or restaurant.\n",
      "2. 7:00 AM - Leave for Beomeosa Temple (2.4 hours from your accommodation). Take the bus (approx. 30 minutes) or drive (depending on your preference).\n",
      "3. 9:24 AM - Arrive at Beomeosa Temple and explore the temple grounds, including the Hall of Jade, the Buddha Statue, and the surrounding gardens.\n",
      "4. 11:00 AM - Leave for Gamcheon Culture Village (1 hour from Beomeosa Temple). Take a short walk or drive depending on your preference.\n",
      "5. 12:00 PM - Arrive at Gamcheon Culture Village and explore its colorful streets, shops, and cafes. Don't forget to take some great photos!\n",
      "6. 1:30 PM - Have lunch at one of the many restaurants in Gamcheon Culture Village or head back to your accommodation for a meal.\n",
      "7. 2:30 PM - Leave for Haeundae Beach (2 hours from Gamcheon Culture Village). Take the bus (approx. 20 minutes) or drive depending on traffic conditions.\n",
      "8. 4:30 PM - Arrive at Haeundae Beach and enjoy some time soaking up the sun, playing beach volleyball, or trying water sports.\n",
      "9. 7:00 PM - Leave for Gwangalli Beach (1 hour from Haeundae Beach). Take the bus (approx. 20 minutes) or drive depending on traffic conditions.\n",
      "10. 8:00 PM - Arrive at Gwangalli Beach and enjoy the sunset, take a leisurely walk along the beachfront promenade, or try some street food.\n",
      "11. 9:30 PM - Head back to your accommodation for rest.\n",
      "\n",
      "**Recommendations and Precautions:**\n",
      "\n",
      "1. **Dress in layers:** Although it's warm during the day (30°C), it can get chilly at night (14°C) due to the windy weather. Bring a light jacket or sweater to keep you cozy.\n",
      "2. **Protect yourself from the air pollution:** Wear a mask when outdoors, especially during peak hours (11 am - 3 pm). You can also bring a portable air purifier for your accommodation.\n",
      "3. **Stay hydrated:** Drink plenty of water throughout the day, especially in the hot sun. Bring a refillable bottle to stay hydrated and reduce plastic waste.\n",
      "4. **Take breaks from the wind:** Whenever possible, take shelter in buildings or under umbrellas to protect yourself from the strong winds.\n",
      "5. **Be mindful of your health:** If you have any pre-existing medical conditions, such as asthma or heart problems, take extra precautions when exercising outdoors in windy and polluted conditions.\n",
      "\n",
      "**Additional Tips:**\n",
      "\n",
      "1. Check the weather forecast before heading out each day to ensure you're prepared for any unexpected changes.\n",
      "2. Bring sunscreen with a high SPF and apply regularly throughout the day.\n",
      "3. Respect local customs and dress modestly when visiting temples or cultural sites.\n",
      "4. Don't forget your camera and charger to capture all the amazing moments from your trip!\n",
      "\n",
      "Enjoy your time in Busan!\u001b[0m\n",
      "\n",
      "\u001b[1m> Finished chain.\u001b[0m\n",
      "Generated Output for 2024-10-05:\n",
      "Based on your input, I've created a schedule for a day in Busan on 2024-10-05.\n",
      "\n",
      "**Detailed Itinerary:**\n",
      "\n",
      "1. 6:00 AM - Wake up and have breakfast at a nearby café or restaurant.\n",
      "2. 7:00 AM - Leave for Beomeosa Temple (2.4 hours from your accommodation). Take the bus (approx. 30 minutes) or drive (depending on your preference).\n",
      "3. 9:24 AM - Arrive at Beomeosa Temple and explore the temple grounds, including the Hall of Jade, the Buddha Statue, and the surrounding gardens.\n",
      "4. 11:00 AM - Leave for Gamcheon Culture Village (1 hour from Beomeosa Temple). Take a short walk or drive depending on your preference.\n",
      "5. 12:00 PM - Arrive at Gamcheon Culture Village and explore its colorful streets, shops, and cafes. Don't forget to take some great photos!\n",
      "6. 1:30 PM - Have lunch at one of the many restaurants in Gamcheon Culture Village or head back to your accommodation for a meal.\n",
      "7. 2:30 PM - Leave for Haeundae Beach (2 hours from Gamcheon Culture Village). Take the bus (approx. 20 minutes) or drive depending on traffic conditions.\n",
      "8. 4:30 PM - Arrive at Haeundae Beach and enjoy some time soaking up the sun, playing beach volleyball, or trying water sports.\n",
      "9. 7:00 PM - Leave for Gwangalli Beach (1 hour from Haeundae Beach). Take the bus (approx. 20 minutes) or drive depending on traffic conditions.\n",
      "10. 8:00 PM - Arrive at Gwangalli Beach and enjoy the sunset, take a leisurely walk along the beachfront promenade, or try some street food.\n",
      "11. 9:30 PM - Head back to your accommodation for rest.\n",
      "\n",
      "**Recommendations and Precautions:**\n",
      "\n",
      "1. **Dress in layers:** Although it's warm during the day (30°C), it can get chilly at night (14°C) due to the windy weather. Bring a light jacket or sweater to keep you cozy.\n",
      "2. **Protect yourself from the air pollution:** Wear a mask when outdoors, especially during peak hours (11 am - 3 pm). You can also bring a portable air purifier for your accommodation.\n",
      "3. **Stay hydrated:** Drink plenty of water throughout the day, especially in the hot sun. Bring a refillable bottle to stay hydrated and reduce plastic waste.\n",
      "4. **Take breaks from the wind:** Whenever possible, take shelter in buildings or under umbrellas to protect yourself from the strong winds.\n",
      "5. **Be mindful of your health:** If you have any pre-existing medical conditions, such as asthma or heart problems, take extra precautions when exercising outdoors in windy and polluted conditions.\n",
      "\n",
      "**Additional Tips:**\n",
      "\n",
      "1. Check the weather forecast before heading out each day to ensure you're prepared for any unexpected changes.\n",
      "2. Bring sunscreen with a high SPF and apply regularly throughout the day.\n",
      "3. Respect local customs and dress modestly when visiting temples or cultural sites.\n",
      "4. Don't forget your camera and charger to capture all the amazing moments from your trip!\n",
      "\n",
      "Enjoy your time in Busan!\n"
     ]
    }
   ],
   "source": [
    "# Process each entry in the data\n",
    "for entry in data:\n",
    "    result = process_prompt(agent, entry[\"date\"], entry[\"temp_high\"], entry[\"temp_low\"], entry[\"weather\"], entry[\"air_quality\"], entry[\"attractions\"])\n",
    "    print(f\"Generated Output for {entry['date']}:\\n{result}\")"
   ]
  }
 ],
 "metadata": {
  "kernelspec": {
   "display_name": "busan_planner",
   "language": "python",
   "name": "python3"
  },
  "language_info": {
   "codemirror_mode": {
    "name": "ipython",
    "version": 3
   },
   "file_extension": ".py",
   "mimetype": "text/x-python",
   "name": "python",
   "nbconvert_exporter": "python",
   "pygments_lexer": "ipython3",
   "version": "3.11.10"
  }
 },
 "nbformat": 4,
 "nbformat_minor": 2
}
